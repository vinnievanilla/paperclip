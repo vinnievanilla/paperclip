{
  "nbformat": 4,
  "nbformat_minor": 0,
  "metadata": {
    "colab": {
      "provenance": [],
      "authorship_tag": "ABX9TyPzmL7FcUMFManXbO5m/Mlp",
      "include_colab_link": true
    },
    "kernelspec": {
      "name": "python3",
      "display_name": "Python 3"
    },
    "language_info": {
      "name": "python"
    }
  },
  "cells": [
    {
      "cell_type": "markdown",
      "metadata": {
        "id": "view-in-github",
        "colab_type": "text"
      },
      "source": [
        "<a href=\"https://colab.research.google.com/github/vinnievanilla/paperclip/blob/main/paperclip.ipynb\" target=\"_parent\"><img src=\"https://colab.research.google.com/assets/colab-badge.svg\" alt=\"Open In Colab\"/></a>"
      ]
    },
    {
      "cell_type": "code",
      "execution_count": null,
      "metadata": {
        "id": "3GgBgxpFqgaZ"
      },
      "outputs": [],
      "source": [
        "import streamlit as st\n",
        "\n",
        "from langchain.agents import initialize_agent, AgentType\n",
        "from langchain.callbacks import StreamlitCallbackHandler\n",
        "from langchain.chat_models import ChatOpenAI\n",
        "from langchain.tools import DuckDuckGoSearchRun\n",
        "\n",
        "with st.sidebar:\n",
        "    openai_api_key = st.text_input(\"OpenAI API Key\", key=\"langchain_search_api_key_openai\", type=\"password\")\n",
        "    \"[Get an OpenAI API key](https://platform.openai.com/account/api-keys)\"\n",
        "    \"[View the source code](https://github.com/streamlit/llm-examples/blob/main/pages/2_Chat_with_search.py)\"\n",
        "    \"[![Open in GitHub Codespaces](https://github.com/codespaces/badge.svg)](https://codespaces.new/streamlit/llm-examples?quickstart=1)\"\n",
        "\n",
        "st.title(\"🔎 LangChain - Chat with search\")\n",
        "\n",
        "\"\"\"\n",
        "In this example, we're using `StreamlitCallbackHandler` to display the thoughts and actions of an agent in an interactive Streamlit app.\n",
        "Try more LangChain 🤝 Streamlit Agent examples at [github.com/langchain-ai/streamlit-agent](https://github.com/langchain-ai/streamlit-agent).\n",
        "\"\"\"\n",
        "\n",
        "if \"messages\" not in st.session_state:\n",
        "    st.session_state[\"messages\"] = [\n",
        "        {\"role\": \"assistant\", \"content\": \"Hi, I'm a chatbot who can search the web. How can I help you?\"}\n",
        "    ]\n",
        "\n",
        "for msg in st.session_state.messages:\n",
        "    st.chat_message(msg[\"role\"]).write(msg[\"content\"])\n",
        "\n",
        "if prompt := st.chat_input(placeholder=\"Who won the Women's U.S. Open in 2018?\"):\n",
        "    st.session_state.messages.append({\"role\": \"user\", \"content\": prompt})\n",
        "    st.chat_message(\"user\").write(prompt)\n",
        "\n",
        "    if not openai_api_key:\n",
        "        st.info(\"Please add your OpenAI API key to continue.\")\n",
        "        st.stop()\n",
        "\n",
        "    llm = ChatOpenAI(model_name=\"gpt-3.5-turbo\", openai_api_key=openai_api_key, streaming=True)\n",
        "    search = DuckDuckGoSearchRun(name=\"Search\")\n",
        "    search_agent = initialize_agent([search], llm, agent=AgentType.ZERO_SHOT_REACT_DESCRIPTION, handle_parsing_errors=True)\n",
        "    with st.chat_message(\"assistant\"):\n",
        "        st_cb = StreamlitCallbackHandler(st.container(), expand_new_thoughts=False)\n",
        "        response = search_agent.run(st.session_state.messages, callbacks=[st_cb])\n",
        "        st.session_state.messages.append({\"role\": \"assistant\", \"content\": response})\n",
        "        st.write(response)"
      ]
    }
  ]
}